{
 "cells": [
  {
   "cell_type": "markdown",
   "metadata": {},
   "source": [
    "## Crypto Arbitrage\n",
    "\n",
    "In this Challenge, you'll take on the role of an analyst at a high-tech investment firm. The vice president (VP) of your department is considering arbitrage opportunities in Bitcoin and other cryptocurrencies. As Bitcoin trades on markets across the globe, can you capitalize on simultaneous price dislocations in those markets by using the powers of Pandas?\n",
    "\n",
    "For this assignment, you’ll sort through historical trade data for Bitcoin on two exchanges: Bitstamp and Coinbase. Your task is to apply the three phases of financial analysis to determine if any arbitrage opportunities exist for Bitcoin.\n",
    "\n",
    "This aspect of the Challenge will consist of 3 phases.\n",
    "\n",
    "1. Collect the data.\n",
    "\n",
    "2. Prepare the data.\n",
    "\n",
    "3. Analyze the data. \n",
    "\n"
   ]
  },
  {
   "cell_type": "markdown",
   "metadata": {},
   "source": [
    "###  Import the required libraries and dependencies."
   ]
  },
  {
   "cell_type": "code",
   "execution_count": 1,
   "metadata": {},
   "outputs": [],
   "source": [
    "import pandas as pd\n",
    "from pathlib import Path\n",
    "import csv\n",
    "%matplotlib inline\n"
   ]
  },
  {
   "cell_type": "markdown",
   "metadata": {},
   "source": [
    "## Collect the Data\n",
    "\n",
    "To collect the data that you’ll need, complete the following steps:\n",
    "\n",
    "Instructions. \n",
    "\n",
    "1. Using the Pandas `read_csv` function and the `Path` module, import the data from `bitstamp.csv` file, and create a DataFrame called `bitstamp`. Set the DatetimeIndex as the Timestamp column, and be sure to parse and format the dates.\n",
    "\n",
    "2. Use the `head` (and/or the `tail`) function to confirm that Pandas properly imported the data.\n",
    "\n",
    "3. Repeat Steps 1 and 2 for `coinbase.csv` file."
   ]
  },
  {
   "cell_type": "markdown",
   "metadata": {},
   "source": [
    "### Step 1: Using the Pandas `read_csv` function and the `Path` module, import the data from `bitstamp.csv` file, and create a DataFrame called `bitstamp`. Set the DatetimeIndex as the Timestamp column, and be sure to parse and format the dates."
   ]
  },
  {
   "cell_type": "code",
   "execution_count": 2,
   "metadata": {},
   "outputs": [],
   "source": [
    "# Read in the CSV file called \"bitstamp.csv\" using the Path module. \n",
    "# The CSV file is located in the Resources folder.\n",
    "# Set the index to the column \"Date\"\n",
    "# Set the parse_dates and infer_datetime_format parameters\n",
    "bitstamp = pd.read_csv(\n",
    "    Path('./Resources/bitstamp.csv') ,\n",
    "    index_col=\"Timestamp\",\n",
    "    parse_dates=True,\n",
    "    infer_datetime_format=True,\n",
    ")\n"
   ]
  },
  {
   "cell_type": "markdown",
   "metadata": {},
   "source": [
    "### Step 2: Use the `head` (and/or the `tail`) function to confirm that Pandas properly imported the data."
   ]
  },
  {
   "cell_type": "code",
   "execution_count": 3,
   "metadata": {},
   "outputs": [
    {
     "data": {
      "text/html": [
       "<div>\n",
       "<style scoped>\n",
       "    .dataframe tbody tr th:only-of-type {\n",
       "        vertical-align: middle;\n",
       "    }\n",
       "\n",
       "    .dataframe tbody tr th {\n",
       "        vertical-align: top;\n",
       "    }\n",
       "\n",
       "    .dataframe thead th {\n",
       "        text-align: right;\n",
       "    }\n",
       "</style>\n",
       "<table border=\"1\" class=\"dataframe\">\n",
       "  <thead>\n",
       "    <tr style=\"text-align: right;\">\n",
       "      <th></th>\n",
       "      <th>Open</th>\n",
       "      <th>High</th>\n",
       "      <th>Low</th>\n",
       "      <th>Close</th>\n",
       "      <th>BTC Volume</th>\n",
       "      <th>USD Volume</th>\n",
       "      <th>Weighted Price</th>\n",
       "    </tr>\n",
       "    <tr>\n",
       "      <th>Timestamp</th>\n",
       "      <th></th>\n",
       "      <th></th>\n",
       "      <th></th>\n",
       "      <th></th>\n",
       "      <th></th>\n",
       "      <th></th>\n",
       "      <th></th>\n",
       "    </tr>\n",
       "  </thead>\n",
       "  <tbody>\n",
       "    <tr>\n",
       "      <th>2015-12-31 19:01:00</th>\n",
       "      <td>430.89</td>\n",
       "      <td>430.89</td>\n",
       "      <td>430.89</td>\n",
       "      <td>$430.89</td>\n",
       "      <td>0.080631</td>\n",
       "      <td>34.743096</td>\n",
       "      <td>430.890000</td>\n",
       "    </tr>\n",
       "    <tr>\n",
       "      <th>2015-12-31 19:02:00</th>\n",
       "      <td>430.89</td>\n",
       "      <td>430.89</td>\n",
       "      <td>430.89</td>\n",
       "      <td>$430.89</td>\n",
       "      <td>0.143257</td>\n",
       "      <td>61.728095</td>\n",
       "      <td>430.890000</td>\n",
       "    </tr>\n",
       "    <tr>\n",
       "      <th>2015-12-31 19:03:00</th>\n",
       "      <td>NaN</td>\n",
       "      <td>NaN</td>\n",
       "      <td>NaN</td>\n",
       "      <td>$nan</td>\n",
       "      <td>NaN</td>\n",
       "      <td>NaN</td>\n",
       "      <td>NaN</td>\n",
       "    </tr>\n",
       "    <tr>\n",
       "      <th>2015-12-31 19:04:00</th>\n",
       "      <td>430.19</td>\n",
       "      <td>431.06</td>\n",
       "      <td>430.19</td>\n",
       "      <td>$431.06</td>\n",
       "      <td>1.032161</td>\n",
       "      <td>444.627575</td>\n",
       "      <td>430.773269</td>\n",
       "    </tr>\n",
       "    <tr>\n",
       "      <th>2015-12-31 19:05:00</th>\n",
       "      <td>431.06</td>\n",
       "      <td>432.11</td>\n",
       "      <td>430.21</td>\n",
       "      <td>$430.54</td>\n",
       "      <td>5.558156</td>\n",
       "      <td>2397.461993</td>\n",
       "      <td>431.341280</td>\n",
       "    </tr>\n",
       "  </tbody>\n",
       "</table>\n",
       "</div>"
      ],
      "text/plain": [
       "                       Open    High     Low    Close  BTC Volume   USD Volume  \\\n",
       "Timestamp                                                                       \n",
       "2015-12-31 19:01:00  430.89  430.89  430.89  $430.89    0.080631    34.743096   \n",
       "2015-12-31 19:02:00  430.89  430.89  430.89  $430.89    0.143257    61.728095   \n",
       "2015-12-31 19:03:00     NaN     NaN     NaN     $nan         NaN          NaN   \n",
       "2015-12-31 19:04:00  430.19  431.06  430.19  $431.06    1.032161   444.627575   \n",
       "2015-12-31 19:05:00  431.06  432.11  430.21  $430.54    5.558156  2397.461993   \n",
       "\n",
       "                     Weighted Price  \n",
       "Timestamp                            \n",
       "2015-12-31 19:01:00      430.890000  \n",
       "2015-12-31 19:02:00      430.890000  \n",
       "2015-12-31 19:03:00             NaN  \n",
       "2015-12-31 19:04:00      430.773269  \n",
       "2015-12-31 19:05:00      431.341280  "
      ]
     },
     "execution_count": 3,
     "metadata": {},
     "output_type": "execute_result"
    }
   ],
   "source": [
    "# Use the head (and/or tail) function to confirm that the data was imported properly.\n",
    "# YOUR CODE HERE\n",
    "bitstamp.head()\n"
   ]
  },
  {
   "cell_type": "markdown",
   "metadata": {},
   "source": [
    "### Step 3: Repeat Steps 1 and 2 for `coinbase.csv` file."
   ]
  },
  {
   "cell_type": "code",
   "execution_count": 4,
   "metadata": {},
   "outputs": [],
   "source": [
    "# Read in the CSV file called \"coinbase.csv\" using the Path module. \n",
    "# The CSV file is located in the Resources folder.\n",
    "# Set the index to the column \"Timestamp\"\n",
    "# Set the parse_dates and infer_datetime_format parameters\n",
    "coinbase = pd.read_csv(\n",
    "    Path('./Resources/coinbase.csv'),\n",
    "    index_col='Timestamp',\n",
    "    parse_dates=True,\n",
    "    infer_datetime_format=True,\n",
    ")\n"
   ]
  },
  {
   "cell_type": "code",
   "execution_count": 5,
   "metadata": {},
   "outputs": [
    {
     "data": {
      "text/html": [
       "<div>\n",
       "<style scoped>\n",
       "    .dataframe tbody tr th:only-of-type {\n",
       "        vertical-align: middle;\n",
       "    }\n",
       "\n",
       "    .dataframe tbody tr th {\n",
       "        vertical-align: top;\n",
       "    }\n",
       "\n",
       "    .dataframe thead th {\n",
       "        text-align: right;\n",
       "    }\n",
       "</style>\n",
       "<table border=\"1\" class=\"dataframe\">\n",
       "  <thead>\n",
       "    <tr style=\"text-align: right;\">\n",
       "      <th></th>\n",
       "      <th>Open</th>\n",
       "      <th>High</th>\n",
       "      <th>Low</th>\n",
       "      <th>Close</th>\n",
       "      <th>BTC Volume</th>\n",
       "      <th>USD Volume</th>\n",
       "      <th>Weighted Price</th>\n",
       "    </tr>\n",
       "    <tr>\n",
       "      <th>Timestamp</th>\n",
       "      <th></th>\n",
       "      <th></th>\n",
       "      <th></th>\n",
       "      <th></th>\n",
       "      <th></th>\n",
       "      <th></th>\n",
       "      <th></th>\n",
       "    </tr>\n",
       "  </thead>\n",
       "  <tbody>\n",
       "    <tr>\n",
       "      <th>2019-01-07 17:02:00</th>\n",
       "      <td>4006.01</td>\n",
       "      <td>4006.57</td>\n",
       "      <td>4006.00</td>\n",
       "      <td>$4006.01</td>\n",
       "      <td>3.382954</td>\n",
       "      <td>13553.433078</td>\n",
       "      <td>4006.390309</td>\n",
       "    </tr>\n",
       "    <tr>\n",
       "      <th>2019-01-07 17:03:00</th>\n",
       "      <td>4006.01</td>\n",
       "      <td>4006.57</td>\n",
       "      <td>4006.00</td>\n",
       "      <td>$4006.01</td>\n",
       "      <td>0.902164</td>\n",
       "      <td>3614.083169</td>\n",
       "      <td>4006.017233</td>\n",
       "    </tr>\n",
       "    <tr>\n",
       "      <th>2019-01-07 17:04:00</th>\n",
       "      <td>4006.01</td>\n",
       "      <td>4006.01</td>\n",
       "      <td>4006.00</td>\n",
       "      <td>$4006.01</td>\n",
       "      <td>1.192123</td>\n",
       "      <td>4775.647308</td>\n",
       "      <td>4006.003635</td>\n",
       "    </tr>\n",
       "    <tr>\n",
       "      <th>2019-01-07 17:05:00</th>\n",
       "      <td>4006.01</td>\n",
       "      <td>4006.01</td>\n",
       "      <td>4005.50</td>\n",
       "      <td>$4005.5</td>\n",
       "      <td>2.699700</td>\n",
       "      <td>10814.241898</td>\n",
       "      <td>4005.719991</td>\n",
       "    </tr>\n",
       "    <tr>\n",
       "      <th>2019-01-07 17:06:00</th>\n",
       "      <td>4005.51</td>\n",
       "      <td>4006.01</td>\n",
       "      <td>4005.51</td>\n",
       "      <td>$4005.99</td>\n",
       "      <td>1.752778</td>\n",
       "      <td>7021.183546</td>\n",
       "      <td>4005.745614</td>\n",
       "    </tr>\n",
       "  </tbody>\n",
       "</table>\n",
       "</div>"
      ],
      "text/plain": [
       "                        Open     High      Low     Close  BTC Volume  \\\n",
       "Timestamp                                                              \n",
       "2019-01-07 17:02:00  4006.01  4006.57  4006.00  $4006.01    3.382954   \n",
       "2019-01-07 17:03:00  4006.01  4006.57  4006.00  $4006.01    0.902164   \n",
       "2019-01-07 17:04:00  4006.01  4006.01  4006.00  $4006.01    1.192123   \n",
       "2019-01-07 17:05:00  4006.01  4006.01  4005.50   $4005.5    2.699700   \n",
       "2019-01-07 17:06:00  4005.51  4006.01  4005.51  $4005.99    1.752778   \n",
       "\n",
       "                       USD Volume  Weighted Price  \n",
       "Timestamp                                          \n",
       "2019-01-07 17:02:00  13553.433078     4006.390309  \n",
       "2019-01-07 17:03:00   3614.083169     4006.017233  \n",
       "2019-01-07 17:04:00   4775.647308     4006.003635  \n",
       "2019-01-07 17:05:00  10814.241898     4005.719991  \n",
       "2019-01-07 17:06:00   7021.183546     4005.745614  "
      ]
     },
     "execution_count": 5,
     "metadata": {},
     "output_type": "execute_result"
    }
   ],
   "source": [
    "# Use the head (and/or tail) function to confirm that the data was imported properly.\n",
    "# YOUR CODE HERE\n",
    "coinbase.tail()"
   ]
  },
  {
   "cell_type": "markdown",
   "metadata": {},
   "source": [
    "## Prepare the Data\n",
    "\n",
    "To prepare and clean your data for analysis, complete the following steps:\n",
    "\n",
    "1. For the bitstamp DataFrame, replace or drop all `NaN`, or missing, values in the DataFrame.\n",
    "\n",
    "2. Use the `str.replace` function to remove the dollar signs ($) from the values in the Close column.\n",
    "\n",
    "3. Convert the data type of the Close column to a `float`.\n",
    "\n",
    "4. Review the data for duplicated values, and drop them if necessary.\n",
    "\n",
    "5. Repeat Steps 1–4 for the coinbase DataFrame."
   ]
  },
  {
   "cell_type": "markdown",
   "metadata": {},
   "source": [
    "### Step 1: For the bitstamp DataFrame, replace or drop all `NaN`, or missing, values in the DataFrame."
   ]
  },
  {
   "cell_type": "code",
   "execution_count": 6,
   "metadata": {},
   "outputs": [],
   "source": [
    "# For the bitstamp DataFrame, replace or drop all NaNs or missing values in the DataFrame\n",
    "# YOUR CODE HERE\n",
    "bitstamp = bitstamp.dropna(0)"
   ]
  },
  {
   "cell_type": "code",
   "execution_count": 7,
   "metadata": {},
   "outputs": [
    {
     "data": {
      "text/html": [
       "<div>\n",
       "<style scoped>\n",
       "    .dataframe tbody tr th:only-of-type {\n",
       "        vertical-align: middle;\n",
       "    }\n",
       "\n",
       "    .dataframe tbody tr th {\n",
       "        vertical-align: top;\n",
       "    }\n",
       "\n",
       "    .dataframe thead th {\n",
       "        text-align: right;\n",
       "    }\n",
       "</style>\n",
       "<table border=\"1\" class=\"dataframe\">\n",
       "  <thead>\n",
       "    <tr style=\"text-align: right;\">\n",
       "      <th></th>\n",
       "      <th>Open</th>\n",
       "      <th>High</th>\n",
       "      <th>Low</th>\n",
       "      <th>Close</th>\n",
       "      <th>BTC Volume</th>\n",
       "      <th>USD Volume</th>\n",
       "      <th>Weighted Price</th>\n",
       "    </tr>\n",
       "    <tr>\n",
       "      <th>Timestamp</th>\n",
       "      <th></th>\n",
       "      <th></th>\n",
       "      <th></th>\n",
       "      <th></th>\n",
       "      <th></th>\n",
       "      <th></th>\n",
       "      <th></th>\n",
       "    </tr>\n",
       "  </thead>\n",
       "  <tbody>\n",
       "    <tr>\n",
       "      <th>2015-12-31 19:01:00</th>\n",
       "      <td>430.89</td>\n",
       "      <td>430.89</td>\n",
       "      <td>430.89</td>\n",
       "      <td>$430.89</td>\n",
       "      <td>0.080631</td>\n",
       "      <td>34.743096</td>\n",
       "      <td>430.890000</td>\n",
       "    </tr>\n",
       "    <tr>\n",
       "      <th>2015-12-31 19:02:00</th>\n",
       "      <td>430.89</td>\n",
       "      <td>430.89</td>\n",
       "      <td>430.89</td>\n",
       "      <td>$430.89</td>\n",
       "      <td>0.143257</td>\n",
       "      <td>61.728095</td>\n",
       "      <td>430.890000</td>\n",
       "    </tr>\n",
       "    <tr>\n",
       "      <th>2015-12-31 19:04:00</th>\n",
       "      <td>430.19</td>\n",
       "      <td>431.06</td>\n",
       "      <td>430.19</td>\n",
       "      <td>$431.06</td>\n",
       "      <td>1.032161</td>\n",
       "      <td>444.627575</td>\n",
       "      <td>430.773269</td>\n",
       "    </tr>\n",
       "    <tr>\n",
       "      <th>2015-12-31 19:05:00</th>\n",
       "      <td>431.06</td>\n",
       "      <td>432.11</td>\n",
       "      <td>430.21</td>\n",
       "      <td>$430.54</td>\n",
       "      <td>5.558156</td>\n",
       "      <td>2397.461993</td>\n",
       "      <td>431.341280</td>\n",
       "    </tr>\n",
       "    <tr>\n",
       "      <th>2015-12-31 19:06:00</th>\n",
       "      <td>432.53</td>\n",
       "      <td>432.53</td>\n",
       "      <td>431.48</td>\n",
       "      <td>$432.52</td>\n",
       "      <td>4.117318</td>\n",
       "      <td>1776.650476</td>\n",
       "      <td>431.506725</td>\n",
       "    </tr>\n",
       "  </tbody>\n",
       "</table>\n",
       "</div>"
      ],
      "text/plain": [
       "                       Open    High     Low    Close  BTC Volume   USD Volume  \\\n",
       "Timestamp                                                                       \n",
       "2015-12-31 19:01:00  430.89  430.89  430.89  $430.89    0.080631    34.743096   \n",
       "2015-12-31 19:02:00  430.89  430.89  430.89  $430.89    0.143257    61.728095   \n",
       "2015-12-31 19:04:00  430.19  431.06  430.19  $431.06    1.032161   444.627575   \n",
       "2015-12-31 19:05:00  431.06  432.11  430.21  $430.54    5.558156  2397.461993   \n",
       "2015-12-31 19:06:00  432.53  432.53  431.48  $432.52    4.117318  1776.650476   \n",
       "\n",
       "                     Weighted Price  \n",
       "Timestamp                            \n",
       "2015-12-31 19:01:00      430.890000  \n",
       "2015-12-31 19:02:00      430.890000  \n",
       "2015-12-31 19:04:00      430.773269  \n",
       "2015-12-31 19:05:00      431.341280  \n",
       "2015-12-31 19:06:00      431.506725  "
      ]
     },
     "execution_count": 7,
     "metadata": {},
     "output_type": "execute_result"
    }
   ],
   "source": [
    "bitstamp.head()"
   ]
  },
  {
   "cell_type": "markdown",
   "metadata": {},
   "source": [
    "### Step 2: Use the `str.replace` function to remove the dollar signs ($) from the values in the Close column."
   ]
  },
  {
   "cell_type": "code",
   "execution_count": 8,
   "metadata": {},
   "outputs": [],
   "source": [
    "# Use the str.replace function to remove the dollar sign, $\n",
    "# YOUR CODE HERE\n",
    "bitstamp.loc[:,\"Close\"] = bitstamp.loc[:,\"Close\"].str.replace('$','')"
   ]
  },
  {
   "cell_type": "markdown",
   "metadata": {},
   "source": [
    "### Step 3: Convert the data type of the Close column to a `float`."
   ]
  },
  {
   "cell_type": "code",
   "execution_count": 9,
   "metadata": {},
   "outputs": [],
   "source": [
    "# Convert the Close data type to a float\n",
    "# YOUR CODE HERE\n",
    "bitstamp.loc[:,\"Close\"] = bitstamp.loc[:, \"Close\"].astype('float')"
   ]
  },
  {
   "cell_type": "code",
   "execution_count": 10,
   "metadata": {},
   "outputs": [
    {
     "data": {
      "text/html": [
       "<div>\n",
       "<style scoped>\n",
       "    .dataframe tbody tr th:only-of-type {\n",
       "        vertical-align: middle;\n",
       "    }\n",
       "\n",
       "    .dataframe tbody tr th {\n",
       "        vertical-align: top;\n",
       "    }\n",
       "\n",
       "    .dataframe thead th {\n",
       "        text-align: right;\n",
       "    }\n",
       "</style>\n",
       "<table border=\"1\" class=\"dataframe\">\n",
       "  <thead>\n",
       "    <tr style=\"text-align: right;\">\n",
       "      <th></th>\n",
       "      <th>Open</th>\n",
       "      <th>High</th>\n",
       "      <th>Low</th>\n",
       "      <th>Close</th>\n",
       "      <th>BTC Volume</th>\n",
       "      <th>USD Volume</th>\n",
       "      <th>Weighted Price</th>\n",
       "    </tr>\n",
       "    <tr>\n",
       "      <th>Timestamp</th>\n",
       "      <th></th>\n",
       "      <th></th>\n",
       "      <th></th>\n",
       "      <th></th>\n",
       "      <th></th>\n",
       "      <th></th>\n",
       "      <th></th>\n",
       "    </tr>\n",
       "  </thead>\n",
       "  <tbody>\n",
       "    <tr>\n",
       "      <th>2015-12-31 19:01:00</th>\n",
       "      <td>430.89</td>\n",
       "      <td>430.89</td>\n",
       "      <td>430.89</td>\n",
       "      <td>430.89</td>\n",
       "      <td>0.080631</td>\n",
       "      <td>34.743096</td>\n",
       "      <td>430.890000</td>\n",
       "    </tr>\n",
       "    <tr>\n",
       "      <th>2015-12-31 19:02:00</th>\n",
       "      <td>430.89</td>\n",
       "      <td>430.89</td>\n",
       "      <td>430.89</td>\n",
       "      <td>430.89</td>\n",
       "      <td>0.143257</td>\n",
       "      <td>61.728095</td>\n",
       "      <td>430.890000</td>\n",
       "    </tr>\n",
       "    <tr>\n",
       "      <th>2015-12-31 19:04:00</th>\n",
       "      <td>430.19</td>\n",
       "      <td>431.06</td>\n",
       "      <td>430.19</td>\n",
       "      <td>431.06</td>\n",
       "      <td>1.032161</td>\n",
       "      <td>444.627575</td>\n",
       "      <td>430.773269</td>\n",
       "    </tr>\n",
       "    <tr>\n",
       "      <th>2015-12-31 19:05:00</th>\n",
       "      <td>431.06</td>\n",
       "      <td>432.11</td>\n",
       "      <td>430.21</td>\n",
       "      <td>430.54</td>\n",
       "      <td>5.558156</td>\n",
       "      <td>2397.461993</td>\n",
       "      <td>431.341280</td>\n",
       "    </tr>\n",
       "    <tr>\n",
       "      <th>2015-12-31 19:06:00</th>\n",
       "      <td>432.53</td>\n",
       "      <td>432.53</td>\n",
       "      <td>431.48</td>\n",
       "      <td>432.52</td>\n",
       "      <td>4.117318</td>\n",
       "      <td>1776.650476</td>\n",
       "      <td>431.506725</td>\n",
       "    </tr>\n",
       "  </tbody>\n",
       "</table>\n",
       "</div>"
      ],
      "text/plain": [
       "                       Open    High     Low   Close  BTC Volume   USD Volume  \\\n",
       "Timestamp                                                                      \n",
       "2015-12-31 19:01:00  430.89  430.89  430.89  430.89    0.080631    34.743096   \n",
       "2015-12-31 19:02:00  430.89  430.89  430.89  430.89    0.143257    61.728095   \n",
       "2015-12-31 19:04:00  430.19  431.06  430.19  431.06    1.032161   444.627575   \n",
       "2015-12-31 19:05:00  431.06  432.11  430.21  430.54    5.558156  2397.461993   \n",
       "2015-12-31 19:06:00  432.53  432.53  431.48  432.52    4.117318  1776.650476   \n",
       "\n",
       "                     Weighted Price  \n",
       "Timestamp                            \n",
       "2015-12-31 19:01:00      430.890000  \n",
       "2015-12-31 19:02:00      430.890000  \n",
       "2015-12-31 19:04:00      430.773269  \n",
       "2015-12-31 19:05:00      431.341280  \n",
       "2015-12-31 19:06:00      431.506725  "
      ]
     },
     "execution_count": 10,
     "metadata": {},
     "output_type": "execute_result"
    }
   ],
   "source": [
    "bitstamp.head()"
   ]
  },
  {
   "cell_type": "markdown",
   "metadata": {},
   "source": [
    "### Step 4: Review the data for duplicated values, and drop them if necessary."
   ]
  },
  {
   "cell_type": "code",
   "execution_count": 11,
   "metadata": {},
   "outputs": [
    {
     "data": {
      "text/plain": [
       "2647"
      ]
     },
     "execution_count": 11,
     "metadata": {},
     "output_type": "execute_result"
    }
   ],
   "source": [
    "# Review the data for duplicate values, and drop them if necessary\n",
    "# YOUR CODE HERE\n",
    "bitstamp.duplicated().sum()"
   ]
  },
  {
   "cell_type": "code",
   "execution_count": 12,
   "metadata": {},
   "outputs": [],
   "source": [
    "bitstamp = bitstamp.drop_duplicates()"
   ]
  },
  {
   "cell_type": "markdown",
   "metadata": {},
   "source": [
    "### Step 5: Repeat Steps 1–4 for the coinbase DataFrame."
   ]
  },
  {
   "cell_type": "code",
   "execution_count": 13,
   "metadata": {},
   "outputs": [],
   "source": [
    "# Repeat Steps 1–4 for the coinbase DataFrame\n",
    "# YOUR CODE HERE\n",
    "coinbase = coinbase.dropna()"
   ]
  },
  {
   "cell_type": "code",
   "execution_count": 14,
   "metadata": {},
   "outputs": [
    {
     "data": {
      "text/html": [
       "<div>\n",
       "<style scoped>\n",
       "    .dataframe tbody tr th:only-of-type {\n",
       "        vertical-align: middle;\n",
       "    }\n",
       "\n",
       "    .dataframe tbody tr th {\n",
       "        vertical-align: top;\n",
       "    }\n",
       "\n",
       "    .dataframe thead th {\n",
       "        text-align: right;\n",
       "    }\n",
       "</style>\n",
       "<table border=\"1\" class=\"dataframe\">\n",
       "  <thead>\n",
       "    <tr style=\"text-align: right;\">\n",
       "      <th></th>\n",
       "      <th>Open</th>\n",
       "      <th>High</th>\n",
       "      <th>Low</th>\n",
       "      <th>Close</th>\n",
       "      <th>BTC Volume</th>\n",
       "      <th>USD Volume</th>\n",
       "      <th>Weighted Price</th>\n",
       "    </tr>\n",
       "    <tr>\n",
       "      <th>Timestamp</th>\n",
       "      <th></th>\n",
       "      <th></th>\n",
       "      <th></th>\n",
       "      <th></th>\n",
       "      <th></th>\n",
       "      <th></th>\n",
       "      <th></th>\n",
       "    </tr>\n",
       "  </thead>\n",
       "  <tbody>\n",
       "    <tr>\n",
       "      <th>2015-12-31 19:01:00</th>\n",
       "      <td>430.38</td>\n",
       "      <td>430.40</td>\n",
       "      <td>430.38</td>\n",
       "      <td>$430.4</td>\n",
       "      <td>0.947800</td>\n",
       "      <td>407.924370</td>\n",
       "      <td>430.390768</td>\n",
       "    </tr>\n",
       "    <tr>\n",
       "      <th>2015-12-31 19:02:00</th>\n",
       "      <td>430.40</td>\n",
       "      <td>430.40</td>\n",
       "      <td>430.40</td>\n",
       "      <td>$430.4</td>\n",
       "      <td>1.633400</td>\n",
       "      <td>703.015360</td>\n",
       "      <td>430.400000</td>\n",
       "    </tr>\n",
       "    <tr>\n",
       "      <th>2015-12-31 19:03:00</th>\n",
       "      <td>430.39</td>\n",
       "      <td>430.39</td>\n",
       "      <td>430.36</td>\n",
       "      <td>$430.36</td>\n",
       "      <td>12.566300</td>\n",
       "      <td>5408.313368</td>\n",
       "      <td>430.382322</td>\n",
       "    </tr>\n",
       "    <tr>\n",
       "      <th>2015-12-31 19:04:00</th>\n",
       "      <td>430.39</td>\n",
       "      <td>430.39</td>\n",
       "      <td>430.39</td>\n",
       "      <td>$430.39</td>\n",
       "      <td>1.953000</td>\n",
       "      <td>840.551670</td>\n",
       "      <td>430.390000</td>\n",
       "    </tr>\n",
       "    <tr>\n",
       "      <th>2015-12-31 19:05:00</th>\n",
       "      <td>430.40</td>\n",
       "      <td>430.96</td>\n",
       "      <td>430.40</td>\n",
       "      <td>$430.96</td>\n",
       "      <td>12.114161</td>\n",
       "      <td>5216.297064</td>\n",
       "      <td>430.595001</td>\n",
       "    </tr>\n",
       "  </tbody>\n",
       "</table>\n",
       "</div>"
      ],
      "text/plain": [
       "                       Open    High     Low    Close  BTC Volume   USD Volume  \\\n",
       "Timestamp                                                                       \n",
       "2015-12-31 19:01:00  430.38  430.40  430.38   $430.4    0.947800   407.924370   \n",
       "2015-12-31 19:02:00  430.40  430.40  430.40   $430.4    1.633400   703.015360   \n",
       "2015-12-31 19:03:00  430.39  430.39  430.36  $430.36   12.566300  5408.313368   \n",
       "2015-12-31 19:04:00  430.39  430.39  430.39  $430.39    1.953000   840.551670   \n",
       "2015-12-31 19:05:00  430.40  430.96  430.40  $430.96   12.114161  5216.297064   \n",
       "\n",
       "                     Weighted Price  \n",
       "Timestamp                            \n",
       "2015-12-31 19:01:00      430.390768  \n",
       "2015-12-31 19:02:00      430.400000  \n",
       "2015-12-31 19:03:00      430.382322  \n",
       "2015-12-31 19:04:00      430.390000  \n",
       "2015-12-31 19:05:00      430.595001  "
      ]
     },
     "execution_count": 14,
     "metadata": {},
     "output_type": "execute_result"
    }
   ],
   "source": [
    "coinbase.head()"
   ]
  },
  {
   "cell_type": "code",
   "execution_count": 15,
   "metadata": {},
   "outputs": [],
   "source": [
    "coinbase.loc[:,\"Close\"] = coinbase.loc[:, \"Close\"].str.replace('$', '')"
   ]
  },
  {
   "cell_type": "code",
   "execution_count": 16,
   "metadata": {},
   "outputs": [
    {
     "data": {
      "text/html": [
       "<div>\n",
       "<style scoped>\n",
       "    .dataframe tbody tr th:only-of-type {\n",
       "        vertical-align: middle;\n",
       "    }\n",
       "\n",
       "    .dataframe tbody tr th {\n",
       "        vertical-align: top;\n",
       "    }\n",
       "\n",
       "    .dataframe thead th {\n",
       "        text-align: right;\n",
       "    }\n",
       "</style>\n",
       "<table border=\"1\" class=\"dataframe\">\n",
       "  <thead>\n",
       "    <tr style=\"text-align: right;\">\n",
       "      <th></th>\n",
       "      <th>Open</th>\n",
       "      <th>High</th>\n",
       "      <th>Low</th>\n",
       "      <th>Close</th>\n",
       "      <th>BTC Volume</th>\n",
       "      <th>USD Volume</th>\n",
       "      <th>Weighted Price</th>\n",
       "    </tr>\n",
       "    <tr>\n",
       "      <th>Timestamp</th>\n",
       "      <th></th>\n",
       "      <th></th>\n",
       "      <th></th>\n",
       "      <th></th>\n",
       "      <th></th>\n",
       "      <th></th>\n",
       "      <th></th>\n",
       "    </tr>\n",
       "  </thead>\n",
       "  <tbody>\n",
       "    <tr>\n",
       "      <th>2015-12-31 19:01:00</th>\n",
       "      <td>430.38</td>\n",
       "      <td>430.40</td>\n",
       "      <td>430.38</td>\n",
       "      <td>430.4</td>\n",
       "      <td>0.947800</td>\n",
       "      <td>407.924370</td>\n",
       "      <td>430.390768</td>\n",
       "    </tr>\n",
       "    <tr>\n",
       "      <th>2015-12-31 19:02:00</th>\n",
       "      <td>430.40</td>\n",
       "      <td>430.40</td>\n",
       "      <td>430.40</td>\n",
       "      <td>430.4</td>\n",
       "      <td>1.633400</td>\n",
       "      <td>703.015360</td>\n",
       "      <td>430.400000</td>\n",
       "    </tr>\n",
       "    <tr>\n",
       "      <th>2015-12-31 19:03:00</th>\n",
       "      <td>430.39</td>\n",
       "      <td>430.39</td>\n",
       "      <td>430.36</td>\n",
       "      <td>430.36</td>\n",
       "      <td>12.566300</td>\n",
       "      <td>5408.313368</td>\n",
       "      <td>430.382322</td>\n",
       "    </tr>\n",
       "    <tr>\n",
       "      <th>2015-12-31 19:04:00</th>\n",
       "      <td>430.39</td>\n",
       "      <td>430.39</td>\n",
       "      <td>430.39</td>\n",
       "      <td>430.39</td>\n",
       "      <td>1.953000</td>\n",
       "      <td>840.551670</td>\n",
       "      <td>430.390000</td>\n",
       "    </tr>\n",
       "    <tr>\n",
       "      <th>2015-12-31 19:05:00</th>\n",
       "      <td>430.40</td>\n",
       "      <td>430.96</td>\n",
       "      <td>430.40</td>\n",
       "      <td>430.96</td>\n",
       "      <td>12.114161</td>\n",
       "      <td>5216.297064</td>\n",
       "      <td>430.595001</td>\n",
       "    </tr>\n",
       "  </tbody>\n",
       "</table>\n",
       "</div>"
      ],
      "text/plain": [
       "                       Open    High     Low   Close  BTC Volume   USD Volume  \\\n",
       "Timestamp                                                                      \n",
       "2015-12-31 19:01:00  430.38  430.40  430.38   430.4    0.947800   407.924370   \n",
       "2015-12-31 19:02:00  430.40  430.40  430.40   430.4    1.633400   703.015360   \n",
       "2015-12-31 19:03:00  430.39  430.39  430.36  430.36   12.566300  5408.313368   \n",
       "2015-12-31 19:04:00  430.39  430.39  430.39  430.39    1.953000   840.551670   \n",
       "2015-12-31 19:05:00  430.40  430.96  430.40  430.96   12.114161  5216.297064   \n",
       "\n",
       "                     Weighted Price  \n",
       "Timestamp                            \n",
       "2015-12-31 19:01:00      430.390768  \n",
       "2015-12-31 19:02:00      430.400000  \n",
       "2015-12-31 19:03:00      430.382322  \n",
       "2015-12-31 19:04:00      430.390000  \n",
       "2015-12-31 19:05:00      430.595001  "
      ]
     },
     "execution_count": 16,
     "metadata": {},
     "output_type": "execute_result"
    }
   ],
   "source": [
    "coinbase.head()"
   ]
  },
  {
   "cell_type": "code",
   "execution_count": 17,
   "metadata": {},
   "outputs": [],
   "source": [
    "coinbase.loc[:, \"Close\"] = coinbase.loc[:, \"Close\"].astype('float')"
   ]
  },
  {
   "cell_type": "code",
   "execution_count": 18,
   "metadata": {},
   "outputs": [
    {
     "data": {
      "text/plain": [
       "624"
      ]
     },
     "execution_count": 18,
     "metadata": {},
     "output_type": "execute_result"
    }
   ],
   "source": [
    "coinbase.duplicated().sum()"
   ]
  },
  {
   "cell_type": "code",
   "execution_count": 19,
   "metadata": {},
   "outputs": [],
   "source": [
    "coinbase = coinbase.drop_duplicates()"
   ]
  },
  {
   "cell_type": "markdown",
   "metadata": {},
   "source": [
    "## Analyze the Data\n",
    "\n",
    "Your analysis consists of the following steps:\n",
    "\n",
    "Your analysis consists of the following tasks: \n",
    "\n",
    "1. Choose the columns of data on which to focus your analysis.\n",
    "\n",
    "2. Get the summary statistics and plot the data.\n",
    "\n",
    "3. Focus your analysis on specific dates.\n",
    "\n",
    "4. Calculate the arbitrage profits."
   ]
  },
  {
   "cell_type": "markdown",
   "metadata": {},
   "source": [
    "### Step 1: Choose columns of data on which to focus your analysis.\n",
    "\n",
    "Select the data you want to analyze. Use `loc` or `iloc` to select the following columns of data for both the bitstamp and coinbase DataFrames:\n",
    "\n",
    "* Timestamp (index)\n",
    "\n",
    "* Close\n"
   ]
  },
  {
   "cell_type": "code",
   "execution_count": 106,
   "metadata": {},
   "outputs": [],
   "source": [
    "# Use loc or iloc to select `Timestamp (the index)` and `Close` from bitstamp DataFrame\n",
    "bitstamp_sliced = bitstamp.loc[:, [\"Close\"]]"
   ]
  },
  {
   "cell_type": "code",
   "execution_count": 107,
   "metadata": {},
   "outputs": [
    {
     "data": {
      "text/html": [
       "<div>\n",
       "<style scoped>\n",
       "    .dataframe tbody tr th:only-of-type {\n",
       "        vertical-align: middle;\n",
       "    }\n",
       "\n",
       "    .dataframe tbody tr th {\n",
       "        vertical-align: top;\n",
       "    }\n",
       "\n",
       "    .dataframe thead th {\n",
       "        text-align: right;\n",
       "    }\n",
       "</style>\n",
       "<table border=\"1\" class=\"dataframe\">\n",
       "  <thead>\n",
       "    <tr style=\"text-align: right;\">\n",
       "      <th></th>\n",
       "      <th>Close</th>\n",
       "    </tr>\n",
       "    <tr>\n",
       "      <th>Timestamp</th>\n",
       "      <th></th>\n",
       "    </tr>\n",
       "  </thead>\n",
       "  <tbody>\n",
       "    <tr>\n",
       "      <th>2015-12-31 19:01:00</th>\n",
       "      <td>430.89</td>\n",
       "    </tr>\n",
       "    <tr>\n",
       "      <th>2015-12-31 19:02:00</th>\n",
       "      <td>430.89</td>\n",
       "    </tr>\n",
       "    <tr>\n",
       "      <th>2015-12-31 19:04:00</th>\n",
       "      <td>431.06</td>\n",
       "    </tr>\n",
       "    <tr>\n",
       "      <th>2015-12-31 19:05:00</th>\n",
       "      <td>430.54</td>\n",
       "    </tr>\n",
       "    <tr>\n",
       "      <th>2015-12-31 19:06:00</th>\n",
       "      <td>432.52</td>\n",
       "    </tr>\n",
       "  </tbody>\n",
       "</table>\n",
       "</div>"
      ],
      "text/plain": [
       "                      Close\n",
       "Timestamp                  \n",
       "2015-12-31 19:01:00  430.89\n",
       "2015-12-31 19:02:00  430.89\n",
       "2015-12-31 19:04:00  431.06\n",
       "2015-12-31 19:05:00  430.54\n",
       "2015-12-31 19:06:00  432.52"
      ]
     },
     "execution_count": 107,
     "metadata": {},
     "output_type": "execute_result"
    }
   ],
   "source": [
    "# Review the first five rows of the DataFrame\n",
    "# YOUR CODE HERE\n",
    "bitstamp_sliced.head()"
   ]
  },
  {
   "cell_type": "code",
   "execution_count": 104,
   "metadata": {},
   "outputs": [],
   "source": [
    "# Use loc or iloc to select `Timestamp (the index)` and `Close` from coinbase DataFrame\n",
    "coinbase_sliced = coinbase.loc[:, ['Close']]"
   ]
  },
  {
   "cell_type": "code",
   "execution_count": 105,
   "metadata": {},
   "outputs": [
    {
     "data": {
      "text/html": [
       "<div>\n",
       "<style scoped>\n",
       "    .dataframe tbody tr th:only-of-type {\n",
       "        vertical-align: middle;\n",
       "    }\n",
       "\n",
       "    .dataframe tbody tr th {\n",
       "        vertical-align: top;\n",
       "    }\n",
       "\n",
       "    .dataframe thead th {\n",
       "        text-align: right;\n",
       "    }\n",
       "</style>\n",
       "<table border=\"1\" class=\"dataframe\">\n",
       "  <thead>\n",
       "    <tr style=\"text-align: right;\">\n",
       "      <th></th>\n",
       "      <th>Close</th>\n",
       "    </tr>\n",
       "    <tr>\n",
       "      <th>Timestamp</th>\n",
       "      <th></th>\n",
       "    </tr>\n",
       "  </thead>\n",
       "  <tbody>\n",
       "    <tr>\n",
       "      <th>2015-12-31 19:01:00</th>\n",
       "      <td>430.40</td>\n",
       "    </tr>\n",
       "    <tr>\n",
       "      <th>2015-12-31 19:02:00</th>\n",
       "      <td>430.40</td>\n",
       "    </tr>\n",
       "    <tr>\n",
       "      <th>2015-12-31 19:03:00</th>\n",
       "      <td>430.36</td>\n",
       "    </tr>\n",
       "    <tr>\n",
       "      <th>2015-12-31 19:04:00</th>\n",
       "      <td>430.39</td>\n",
       "    </tr>\n",
       "    <tr>\n",
       "      <th>2015-12-31 19:05:00</th>\n",
       "      <td>430.96</td>\n",
       "    </tr>\n",
       "  </tbody>\n",
       "</table>\n",
       "</div>"
      ],
      "text/plain": [
       "                      Close\n",
       "Timestamp                  \n",
       "2015-12-31 19:01:00  430.40\n",
       "2015-12-31 19:02:00  430.40\n",
       "2015-12-31 19:03:00  430.36\n",
       "2015-12-31 19:04:00  430.39\n",
       "2015-12-31 19:05:00  430.96"
      ]
     },
     "execution_count": 105,
     "metadata": {},
     "output_type": "execute_result"
    }
   ],
   "source": [
    "# Review the first five rows of the DataFrame\n",
    "# YOUR CODE HERE\n",
    "coinbase_sliced.head()"
   ]
  },
  {
   "cell_type": "markdown",
   "metadata": {},
   "source": [
    "### Step 2: Get summary statistics and plot the data.\n",
    "\n",
    "Sort through the time series data associated with the bitstamp and coinbase DataFrames to identify potential arbitrage opportunities. To do so, complete the following steps:\n",
    "\n",
    "1. Generate the summary statistics for each DataFrame by using the `describe` function.\n",
    "\n",
    "2. For each DataFrame, create a line plot for the full period of time in the dataset. Be sure to tailor the figure size, title, and color to each visualization.\n",
    "\n",
    "3. In one plot, overlay the visualizations that you created in Step 2 for bitstamp and coinbase. Be sure to adjust the legend and title for this new visualization.\n",
    "\n",
    "4. Using the `loc` and `plot` functions, plot the price action of the assets on each exchange for different dates and times. Your goal is to evaluate how the spread between the two exchanges changed across the time period that the datasets define. Did the degree of spread change as time progressed?"
   ]
  },
  {
   "cell_type": "code",
   "execution_count": 111,
   "metadata": {},
   "outputs": [
    {
     "data": {
      "text/html": [
       "<div>\n",
       "<style scoped>\n",
       "    .dataframe tbody tr th:only-of-type {\n",
       "        vertical-align: middle;\n",
       "    }\n",
       "\n",
       "    .dataframe tbody tr th {\n",
       "        vertical-align: top;\n",
       "    }\n",
       "\n",
       "    .dataframe thead th {\n",
       "        text-align: right;\n",
       "    }\n",
       "</style>\n",
       "<table border=\"1\" class=\"dataframe\">\n",
       "  <thead>\n",
       "    <tr style=\"text-align: right;\">\n",
       "      <th></th>\n",
       "      <th>Open</th>\n",
       "      <th>High</th>\n",
       "      <th>Low</th>\n",
       "      <th>Close</th>\n",
       "      <th>BTC Volume</th>\n",
       "      <th>USD Volume</th>\n",
       "      <th>Weighted Price</th>\n",
       "    </tr>\n",
       "  </thead>\n",
       "  <tbody>\n",
       "    <tr>\n",
       "      <th>count</th>\n",
       "      <td>1347772.0</td>\n",
       "      <td>1347772.0</td>\n",
       "      <td>1347772.0</td>\n",
       "      <td>1347772.0</td>\n",
       "      <td>1347772.0</td>\n",
       "      <td>1347772.0</td>\n",
       "      <td>1347772.0</td>\n",
       "    </tr>\n",
       "    <tr>\n",
       "      <th>mean</th>\n",
       "      <td>4504.0</td>\n",
       "      <td>4508.0</td>\n",
       "      <td>4500.0</td>\n",
       "      <td>4504.0</td>\n",
       "      <td>8.0</td>\n",
       "      <td>39913.0</td>\n",
       "      <td>4504.0</td>\n",
       "    </tr>\n",
       "    <tr>\n",
       "      <th>std</th>\n",
       "      <td>3956.0</td>\n",
       "      <td>3961.0</td>\n",
       "      <td>3951.0</td>\n",
       "      <td>3956.0</td>\n",
       "      <td>20.0</td>\n",
       "      <td>117193.0</td>\n",
       "      <td>3956.0</td>\n",
       "    </tr>\n",
       "    <tr>\n",
       "      <th>min</th>\n",
       "      <td>353.0</td>\n",
       "      <td>354.0</td>\n",
       "      <td>2.0</td>\n",
       "      <td>2.0</td>\n",
       "      <td>0.0</td>\n",
       "      <td>0.0</td>\n",
       "      <td>352.0</td>\n",
       "    </tr>\n",
       "    <tr>\n",
       "      <th>25%</th>\n",
       "      <td>789.0</td>\n",
       "      <td>789.0</td>\n",
       "      <td>789.0</td>\n",
       "      <td>789.0</td>\n",
       "      <td>0.0</td>\n",
       "      <td>627.0</td>\n",
       "      <td>789.0</td>\n",
       "    </tr>\n",
       "    <tr>\n",
       "      <th>50%</th>\n",
       "      <td>3789.0</td>\n",
       "      <td>3791.0</td>\n",
       "      <td>3786.0</td>\n",
       "      <td>3789.0</td>\n",
       "      <td>2.0</td>\n",
       "      <td>5779.0</td>\n",
       "      <td>3789.0</td>\n",
       "    </tr>\n",
       "    <tr>\n",
       "      <th>75%</th>\n",
       "      <td>6929.0</td>\n",
       "      <td>6933.0</td>\n",
       "      <td>6925.0</td>\n",
       "      <td>6929.0</td>\n",
       "      <td>7.0</td>\n",
       "      <td>30173.0</td>\n",
       "      <td>6929.0</td>\n",
       "    </tr>\n",
       "    <tr>\n",
       "      <th>max</th>\n",
       "      <td>19666.0</td>\n",
       "      <td>19666.0</td>\n",
       "      <td>19650.0</td>\n",
       "      <td>19666.0</td>\n",
       "      <td>1616.0</td>\n",
       "      <td>5483271.0</td>\n",
       "      <td>19663.0</td>\n",
       "    </tr>\n",
       "  </tbody>\n",
       "</table>\n",
       "</div>"
      ],
      "text/plain": [
       "            Open       High        Low      Close  BTC Volume  USD Volume  \\\n",
       "count  1347772.0  1347772.0  1347772.0  1347772.0   1347772.0   1347772.0   \n",
       "mean      4504.0     4508.0     4500.0     4504.0         8.0     39913.0   \n",
       "std       3956.0     3961.0     3951.0     3956.0        20.0    117193.0   \n",
       "min        353.0      354.0        2.0        2.0         0.0         0.0   \n",
       "25%        789.0      789.0      789.0      789.0         0.0       627.0   \n",
       "50%       3789.0     3791.0     3786.0     3789.0         2.0      5779.0   \n",
       "75%       6929.0     6933.0     6925.0     6929.0         7.0     30173.0   \n",
       "max      19666.0    19666.0    19650.0    19666.0      1616.0   5483271.0   \n",
       "\n",
       "       Weighted Price  \n",
       "count       1347772.0  \n",
       "mean           4504.0  \n",
       "std            3956.0  \n",
       "min             352.0  \n",
       "25%             789.0  \n",
       "50%            3789.0  \n",
       "75%            6929.0  \n",
       "max           19663.0  "
      ]
     },
     "execution_count": 111,
     "metadata": {},
     "output_type": "execute_result"
    }
   ],
   "source": [
    "# Generate the summary statistics for the bitstamp DataFrame\n",
    "# YOUR CODE HERE\n",
    "bitstamp.describe().round()"
   ]
  },
  {
   "cell_type": "code",
   "execution_count": 25,
   "metadata": {},
   "outputs": [
    {
     "data": {
      "text/html": [
       "<div>\n",
       "<style scoped>\n",
       "    .dataframe tbody tr th:only-of-type {\n",
       "        vertical-align: middle;\n",
       "    }\n",
       "\n",
       "    .dataframe tbody tr th {\n",
       "        vertical-align: top;\n",
       "    }\n",
       "\n",
       "    .dataframe thead th {\n",
       "        text-align: right;\n",
       "    }\n",
       "</style>\n",
       "<table border=\"1\" class=\"dataframe\">\n",
       "  <thead>\n",
       "    <tr style=\"text-align: right;\">\n",
       "      <th></th>\n",
       "      <th>Open</th>\n",
       "      <th>High</th>\n",
       "      <th>Low</th>\n",
       "      <th>Close</th>\n",
       "      <th>BTC Volume</th>\n",
       "      <th>USD Volume</th>\n",
       "      <th>Weighted Price</th>\n",
       "    </tr>\n",
       "  </thead>\n",
       "  <tbody>\n",
       "    <tr>\n",
       "      <th>count</th>\n",
       "      <td>1549523.0</td>\n",
       "      <td>1549523.0</td>\n",
       "      <td>1549523.0</td>\n",
       "      <td>1549523.0</td>\n",
       "      <td>1549523.0</td>\n",
       "      <td>1549523.0</td>\n",
       "      <td>1549523.0</td>\n",
       "    </tr>\n",
       "    <tr>\n",
       "      <th>mean</th>\n",
       "      <td>4092.0</td>\n",
       "      <td>4094.0</td>\n",
       "      <td>4090.0</td>\n",
       "      <td>4092.0</td>\n",
       "      <td>8.0</td>\n",
       "      <td>45689.0</td>\n",
       "      <td>4092.0</td>\n",
       "    </tr>\n",
       "    <tr>\n",
       "      <th>std</th>\n",
       "      <td>3914.0</td>\n",
       "      <td>3916.0</td>\n",
       "      <td>3911.0</td>\n",
       "      <td>3914.0</td>\n",
       "      <td>18.0</td>\n",
       "      <td>157509.0</td>\n",
       "      <td>3913.0</td>\n",
       "    </tr>\n",
       "    <tr>\n",
       "      <th>min</th>\n",
       "      <td>0.0</td>\n",
       "      <td>0.0</td>\n",
       "      <td>0.0</td>\n",
       "      <td>0.0</td>\n",
       "      <td>0.0</td>\n",
       "      <td>0.0</td>\n",
       "      <td>0.0</td>\n",
       "    </tr>\n",
       "    <tr>\n",
       "      <th>25%</th>\n",
       "      <td>675.0</td>\n",
       "      <td>676.0</td>\n",
       "      <td>675.0</td>\n",
       "      <td>675.0</td>\n",
       "      <td>1.0</td>\n",
       "      <td>1330.0</td>\n",
       "      <td>675.0</td>\n",
       "    </tr>\n",
       "    <tr>\n",
       "      <th>50%</th>\n",
       "      <td>2711.0</td>\n",
       "      <td>2712.0</td>\n",
       "      <td>2710.0</td>\n",
       "      <td>2711.0</td>\n",
       "      <td>3.0</td>\n",
       "      <td>7273.0</td>\n",
       "      <td>2711.0</td>\n",
       "    </tr>\n",
       "    <tr>\n",
       "      <th>75%</th>\n",
       "      <td>6594.0</td>\n",
       "      <td>6595.0</td>\n",
       "      <td>6592.0</td>\n",
       "      <td>6594.0</td>\n",
       "      <td>8.0</td>\n",
       "      <td>29726.0</td>\n",
       "      <td>6593.0</td>\n",
       "    </tr>\n",
       "    <tr>\n",
       "      <th>max</th>\n",
       "      <td>19892.0</td>\n",
       "      <td>19892.0</td>\n",
       "      <td>19892.0</td>\n",
       "      <td>19892.0</td>\n",
       "      <td>1156.0</td>\n",
       "      <td>19970765.0</td>\n",
       "      <td>19892.0</td>\n",
       "    </tr>\n",
       "  </tbody>\n",
       "</table>\n",
       "</div>"
      ],
      "text/plain": [
       "            Open       High        Low      Close  BTC Volume  USD Volume  \\\n",
       "count  1549523.0  1549523.0  1549523.0  1549523.0   1549523.0   1549523.0   \n",
       "mean      4092.0     4094.0     4090.0     4092.0         8.0     45689.0   \n",
       "std       3914.0     3916.0     3911.0     3914.0        18.0    157509.0   \n",
       "min          0.0        0.0        0.0        0.0         0.0         0.0   \n",
       "25%        675.0      676.0      675.0      675.0         1.0      1330.0   \n",
       "50%       2711.0     2712.0     2710.0     2711.0         3.0      7273.0   \n",
       "75%       6594.0     6595.0     6592.0     6594.0         8.0     29726.0   \n",
       "max      19892.0    19892.0    19892.0    19892.0      1156.0  19970765.0   \n",
       "\n",
       "       Weighted Price  \n",
       "count       1549523.0  \n",
       "mean           4092.0  \n",
       "std            3913.0  \n",
       "min               0.0  \n",
       "25%             675.0  \n",
       "50%            2711.0  \n",
       "75%            6593.0  \n",
       "max           19892.0  "
      ]
     },
     "execution_count": 25,
     "metadata": {},
     "output_type": "execute_result"
    }
   ],
   "source": [
    "# Generate the summary statistics for the coinbase DataFrame\n",
    "# YOUR CODE HERE\n",
    "coinbase.describe().round()"
   ]
  },
  {
   "cell_type": "code",
   "execution_count": 112,
   "metadata": {},
   "outputs": [
    {
     "data": {
      "text/plain": [
       "<AxesSubplot:title={'center':'Bitstamp'}, xlabel='Timestamp'>"
      ]
     },
     "execution_count": 112,
     "metadata": {},
     "output_type": "execute_result"
    },
    {
     "data": {
      "image/png": "[encoded data removed]",
      "text/plain": [
       "<Figure size 1080x360 with 1 Axes>"
      ]
     },
     "metadata": {
      "needs_background": "light"
     },
     "output_type": "display_data"
    }
   ],
   "source": [
    "# Create a line plot for the bitstamp DataFrame for the full length of time in the dataset \n",
    "# Be sure that the figure size, title, and color are tailored to each visualization\n",
    "# YOUR CODE HERE\n",
    "bitstamp['Close'].plot(\n",
    "    kind = 'line',\n",
    "    figsize = (15,5),\n",
    "    title = \"Bitstamp\",\n",
    "    color = \"Blue\",\n",
    ")"
   ]
  },
  {
   "cell_type": "code",
   "execution_count": 113,
   "metadata": {},
   "outputs": [
    {
     "data": {
      "text/plain": [
       "<AxesSubplot:title={'center':'Coinbase'}, xlabel='Timestamp'>"
      ]
     },
     "execution_count": 113,
     "metadata": {},
     "output_type": "execute_result"
    },
    {
     "data": {
      "image/png": "[encoded data removed]",
      "text/plain": [
       "<Figure size 1080x360 with 1 Axes>"
      ]
     },
     "metadata": {
      "needs_background": "light"
     },
     "output_type": "display_data"
    }
   ],
   "source": [
    "# Create a line plot for the coinbase DataFrame for the full length of time in the dataset \n",
    "# Be sure that the figure size, title, and color are tailored to each visualization\n",
    "# YOUR CODE HERE\n",
    "coinbase['Close'].plot(\n",
    "    kind = \"line\",\n",
    "    figsize = (15,5),\n",
    "    title = \"Coinbase\",\n",
    "    color = \"Yellow\",\n",
    ")"
   ]
  },
  {
   "cell_type": "code",
   "execution_count": 115,
   "metadata": {},
   "outputs": [
    {
     "data": {
      "text/plain": [
       "<AxesSubplot:title={'center':'Bitstamp v. Coinbase'}, xlabel='Timestamp'>"
      ]
     },
     "execution_count": 115,
     "metadata": {},
     "output_type": "execute_result"
    },
    {
     "data": {
      "image/png": "[encoded data removed]",
      "text/plain": [
       "<Figure size 1080x504 with 1 Axes>"
      ]
     },
     "metadata": {
      "needs_background": "light"
     },
     "output_type": "display_data"
    }
   ],
   "source": [
    "# Overlay the visualizations for the bitstamp and coinbase DataFrames in one plot\n",
    "# The plot should visualize the prices over the full lenth of the dataset\n",
    "# Be sure to include the parameters: legend, figure size, title, and color and label\n",
    "# YOUR CODE HERE\n",
    "bitstamp['Close'].plot(legend=True, figsize=(15,7), title=\"Bitstamp v. Coinbase\", color=\"Yellow\", label=\"bitstamp\")\n",
    "coinbase['Close'].plot(legend=True, figsize=(15,7), color=\"Blue\", label=\"coinbase\")\n"
   ]
  },
  {
   "cell_type": "code",
   "execution_count": 29,
   "metadata": {},
   "outputs": [
    {
     "data": {
      "text/plain": [
       "<AxesSubplot:title={'center':'January 5, 2016 - Feburary 5, 2016'}, xlabel='Timestamp'>"
      ]
     },
     "execution_count": 29,
     "metadata": {},
     "output_type": "execute_result"
    },
    {
     "data": {
      "image/png": "[encoded data removed]",
      "text/plain": [
       "<Figure size 1080x504 with 1 Axes>"
      ]
     },
     "metadata": {
      "needs_background": "light"
     },
     "output_type": "display_data"
    }
   ],
   "source": [
    "# Using the loc and plot functions, create an overlay plot that visualizes \n",
    "# the price action of both DataFrames for a one month period early in the dataset\n",
    "# Be sure to include the parameters: legend, figure size, title, and color and label\n",
    "bitstamp['Close'].loc['2016-01-05' : '2016-02-05'].plot( legend=True, figsize=(15,7), title='January 5, 2016 - Feburary 5, 2016', color='blue', label='bitstmap')\n",
    "coinbase['Close'].loc['2016-01-05' : '2016-02-05'].plot( legend=True, figsize=(15,7), color='Yellow', label='coinbase')\n"
   ]
  },
  {
   "cell_type": "code",
   "execution_count": 30,
   "metadata": {},
   "outputs": [
    {
     "data": {
      "text/plain": [
       "<AxesSubplot:title={'center':'July 14, 2018 - August 14, 2018'}, xlabel='Timestamp'>"
      ]
     },
     "execution_count": 30,
     "metadata": {},
     "output_type": "execute_result"
    },
    {
     "data": {
      "image/png": "[encoded data removed]",
      "text/plain": [
       "<Figure size 1080x504 with 1 Axes>"
      ]
     },
     "metadata": {
      "needs_background": "light"
     },
     "output_type": "display_data"
    }
   ],
   "source": [
    "# Using the loc and plot functions, create an overlay plot that visualizes \n",
    "# the price action of both DataFrames for a one month period later in the dataset\n",
    "# Be sure to include the parameters: legend, figure size, title, and color and label \n",
    "bitstamp['Close'].loc['2018-07-14' : '2018-08-14'].plot( legend=True, figsize=(15,7), title='July 14, 2018 - August 14, 2018', color='blue', label='bitsmap')\n",
    "coinbase['Close'].loc['2018-07-14' : '2018-08-14'].plot( legend=True, figsize=(15,7), color='yellow', label='coinbase')\n"
   ]
  },
  {
   "cell_type": "markdown",
   "metadata": {},
   "source": [
    "**Question** Based on the visualizations of the different time periods, has the degree of spread change as time progressed?\n",
    "\n",
    "**Answer** "
   ]
  },
  {
   "cell_type": "markdown",
   "metadata": {},
   "source": [
    "### Step 3: Focus Your Analysis on Specific Dates\n",
    "\n",
    "Focus your analysis on specific dates by completing the following steps:\n",
    "\n",
    "1. Select three dates to evaluate for arbitrage profitability. Choose one date that’s early in the dataset, one from the middle of the dataset, and one from the last year of the time period.\n",
    "\n",
    "2. For each of the three dates, generate the summary statistics and then create a box plot. This big-picture view is meant to help you gain a better understanding of the data before you perform your arbitrage calculations. As you compare the data, what conclusions can you draw?"
   ]
  },
  {
   "cell_type": "code",
   "execution_count": 98,
   "metadata": {},
   "outputs": [
    {
     "data": {
      "text/plain": [
       "<AxesSubplot:title={'center':'January 5th, 2016'}, xlabel='Timestamp'>"
      ]
     },
     "execution_count": 98,
     "metadata": {},
     "output_type": "execute_result"
    },
    {
     "data": {
      "image/png": "[encoded data removed]",
      "text/plain": [
       "<Figure size 1080x504 with 1 Axes>"
      ]
     },
     "metadata": {
      "needs_background": "light"
     },
     "output_type": "display_data"
    }
   ],
   "source": [
    "# Create an overlay plot that visualizes the two dataframes over a period of one day early in the dataset \n",
    "# Be sure that the plots include the parameters `legend`, `figsize`, `title`, `color` and `label` \n",
    "bitstamp['Close'].loc['2016-05-02'].plot( legend=True, figsize=(15,7), title='January 5th, 2016', color='blue', label='bitstamp')\n",
    "coinbase['Close'].loc['2016-05-02'].plot( legend=True, figsize=(15,7), color='yellow', label='coinbase')\n"
   ]
  },
  {
   "cell_type": "code",
   "execution_count": 88,
   "metadata": {
    "tags": []
   },
   "outputs": [
    {
     "data": {
      "text/plain": [
       "count    806.000000\n",
       "mean       3.572146\n",
       "std        1.332831\n",
       "min       -0.290000\n",
       "25%        2.825000\n",
       "50%        3.550000\n",
       "75%        4.397500\n",
       "max        9.210000\n",
       "Name: Close, dtype: float64"
      ]
     },
     "execution_count": 88,
     "metadata": {},
     "output_type": "execute_result"
    }
   ],
   "source": [
    "# Using the early date that you have selected, calculate the arbitrage spread \n",
    "# by subtracting the bitstamp lower closing prices from the coinbase higher closing prices\n",
    "arbitrage_spread_early = coinbase['Close'].loc['2016-07-22'] - bitstamp['Close'].loc['2016-07-22']\n",
    "\n",
    "# Generate summary statistics for the early DataFrame\n",
    "arbitrage_spread_early.describe()\n"
   ]
  },
  {
   "cell_type": "code",
   "execution_count": 33,
   "metadata": {},
   "outputs": [
    {
     "data": {
      "text/plain": [
       "<AxesSubplot:title={'center':'January 5th, 2016'}>"
      ]
     },
     "execution_count": 33,
     "metadata": {},
     "output_type": "execute_result"
    },
    {
     "data": {
      "image/png": "[encoded data removed]",
      "text/plain": [
       "<Figure size 432x288 with 1 Axes>"
      ]
     },
     "metadata": {
      "needs_background": "light"
     },
     "output_type": "display_data"
    }
   ],
   "source": [
    "# Visualize the arbitrage spread from early in the dataset in a box plot\n",
    "# Be sure to include at least a title with your plot\n",
    "arbitrage_spread_early.plot(kind='box', title='January 5th, 2016')\n"
   ]
  },
  {
   "cell_type": "code",
   "execution_count": 34,
   "metadata": {},
   "outputs": [
    {
     "data": {
      "text/plain": [
       "<AxesSubplot:title={'center':'June 18, 2017'}, xlabel='Timestamp'>"
      ]
     },
     "execution_count": 34,
     "metadata": {},
     "output_type": "execute_result"
    },
    {
     "data": {
      "image/png": "[encoded data removed]",
      "text/plain": [
       "<Figure size 1080x504 with 1 Axes>"
      ]
     },
     "metadata": {
      "needs_background": "light"
     },
     "output_type": "display_data"
    }
   ],
   "source": [
    "# Create an overlay plot that visualizes the two dataframes over a period of one day from the middle of the dataset. \n",
    "# Be sure that the plots include the parameters `legend`, `figsize`, `title`, `color` and `label` \n",
    "bitstamp['Close'].loc['2017-05-02'].plot(legend=True, figsize=(15,7), title='June 18, 2017', color='blue', label='bitstamp')\n",
    "coinbase['Close'].loc['2017-05-18'].plot(legend=True, figsize=(15,7), color='yellow', label='coinbase')\n"
   ]
  },
  {
   "cell_type": "code",
   "execution_count": 35,
   "metadata": {},
   "outputs": [
    {
     "data": {
      "text/plain": [
       "count    1312.000000\n",
       "mean       -1.774017\n",
       "std         7.053780\n",
       "min       -32.100000\n",
       "25%        -6.495000\n",
       "50%        -1.580000\n",
       "75%         2.955000\n",
       "max        15.960000\n",
       "Name: Close, dtype: float64"
      ]
     },
     "execution_count": 35,
     "metadata": {},
     "output_type": "execute_result"
    }
   ],
   "source": [
    "# Using the date form the middle that you have selected, calculate the arbitrage spread \n",
    "# by subtracting the bitstamp lower closing prices from the coinbase higher closing prices\n",
    "arbitrage_spread_middle = coinbase['Close'].loc['2017-06-18'] - bitstamp['Close'].loc['2017-06-18']\n",
    "\n",
    "# Generate summary statistics for the middle DataFrame\n",
    "arbitrage_spread_middle.describe()\n"
   ]
  },
  {
   "cell_type": "code",
   "execution_count": 36,
   "metadata": {},
   "outputs": [
    {
     "data": {
      "text/plain": [
       "<AxesSubplot:title={'center':'June 18th, 2017'}>"
      ]
     },
     "execution_count": 36,
     "metadata": {},
     "output_type": "execute_result"
    },
    {
     "data": {
      "image/png": "[encoded data removed]",
      "text/plain": [
       "<Figure size 432x288 with 1 Axes>"
      ]
     },
     "metadata": {
      "needs_background": "light"
     },
     "output_type": "display_data"
    }
   ],
   "source": [
    "# Visualize the arbitrage spread from the middle of the dataset in a box plot\n",
    "# Be sure to include at least a title with your plot\n",
    "arbitrage_spread_middle.plot(kind='box', title='June 18th, 2017')\n"
   ]
  },
  {
   "cell_type": "code",
   "execution_count": 37,
   "metadata": {},
   "outputs": [
    {
     "data": {
      "text/plain": [
       "<AxesSubplot:title={'center':'bitstamp vs coinbase on Friday November 23rd, 2018'}, xlabel='Timestamp'>"
      ]
     },
     "execution_count": 37,
     "metadata": {},
     "output_type": "execute_result"
    },
    {
     "data": {
      "image/png": "[encoded data removed]",
      "text/plain": [
       "<Figure size 1080x1224 with 1 Axes>"
      ]
     },
     "metadata": {
      "needs_background": "light"
     },
     "output_type": "display_data"
    }
   ],
   "source": [
    "# Create an overlay plot that visualizes the two dataframes over a period of one day from late in the dataset\n",
    "# Be sure that the plots include the parameters `legend`, `figsize`, `title`, `color` and `label` \n",
    "bitstamp['Close'].loc['2018-11-23'].plot(legend=True, figsize=(15,7), title='bitstamp vs coinbase on Friday November 23rd, 2018', color='blue', label='bitstamp')\n",
    "coinbase['Close'].loc['2018-11-23'].plot(legend=True, figsize=(15,17), color='yellow', label='coinbase')\n"
   ]
  },
  {
   "cell_type": "code",
   "execution_count": 38,
   "metadata": {},
   "outputs": [
    {
     "data": {
      "text/plain": [
       "count    1358.000000\n",
       "mean       -0.062835\n",
       "std         3.701925\n",
       "min       -14.990000\n",
       "25%        -2.657500\n",
       "50%        -0.135000\n",
       "75%         2.455000\n",
       "max        17.980000\n",
       "Name: Close, dtype: float64"
      ]
     },
     "execution_count": 38,
     "metadata": {},
     "output_type": "execute_result"
    }
   ],
   "source": [
    "# Using th date from late in the dataset that you have selected, calculate the arbitrage spread \n",
    "# by subtracting the bitstamp lower closing prices from the coinbase higher closing prices\n",
    "arbitrage_spread_late = coinbase['Close'].loc['2018-11-23'] - bitstamp['Close'].loc['2018-11-23']\n",
    "\n",
    "# Generate summary statistics for the late DataFrame\n",
    "arbitrage_spread_late.describe()\n"
   ]
  },
  {
   "cell_type": "code",
   "execution_count": 39,
   "metadata": {},
   "outputs": [
    {
     "data": {
      "text/plain": [
       "<AxesSubplot:title={'center':'Black Friday 2018'}>"
      ]
     },
     "execution_count": 39,
     "metadata": {},
     "output_type": "execute_result"
    },
    {
     "data": {
      "image/png": "[encoded data removed]",
      "text/plain": [
       "<Figure size 432x288 with 1 Axes>"
      ]
     },
     "metadata": {
      "needs_background": "light"
     },
     "output_type": "display_data"
    }
   ],
   "source": [
    "# Visualize the arbitrage spread from late in the dataset in a box plot\n",
    "# Be sure to include at least a title with your plot\n",
    "arbitrage_spread_late.plot(kind='box', title='Black Friday 2018')\n"
   ]
  },
  {
   "cell_type": "markdown",
   "metadata": {},
   "source": [
    "### Step 4: Calculate the Arbitrage Profits\n",
    "\n",
    "Calculate the potential profits for each date that you selected in the previous section. Your goal is to determine whether arbitrage opportunities still exist in the Bitcoin market. Complete the following steps:\n",
    "\n",
    "1. For each of the three dates, measure the arbitrage spread between the two exchanges by subtracting the lower-priced exchange from the higher-priced one. Then use a conditional statement to generate the summary statistics for each arbitrage_spread DataFrame, where the spread is greater than zero.\n",
    "\n",
    "2. For each of the three dates, calculate the spread returns. To do so, divide the instances that have a positive arbitrage spread (that is, a spread greater than zero) by the price of Bitcoin from the exchange you’re buying on (that is, the lower-priced exchange). Review the resulting DataFrame.\n",
    "\n",
    "3. For each of the three dates, narrow down your trading opportunities even further. To do so, determine the number of times your trades with positive returns exceed the 1% minimum threshold that you need to cover your costs.\n",
    "\n",
    "4. Generate the summary statistics of your spread returns that are greater than 1%. How do the average returns compare among the three dates?\n",
    "\n",
    "5. For each of the three dates, calculate the potential profit, in dollars, per trade. To do so, multiply the spread returns that were greater than 1% by the cost of what was purchased. Make sure to drop any missing values from the resulting DataFrame.\n",
    "\n",
    "6. Generate the summary statistics, and plot the results for each of the three DataFrames.\n",
    "\n",
    "7. Calculate the potential arbitrage profits that you can make on each day. To do so, sum the elements in the profit_per_trade DataFrame.\n",
    "\n",
    "8. Using the `cumsum` function, plot the cumulative sum of each of the three DataFrames. Can you identify any patterns or trends in the profits across the three time periods?\n",
    "\n",
    "(NOTE: The starter code displays only one date. You'll want to do this analysis for two additional dates)."
   ]
  },
  {
   "cell_type": "markdown",
   "metadata": {},
   "source": [
    "#### 1. For each of the three dates, measure the arbitrage spread between the two exchanges by subtracting the lower-priced exchange from the higher-priced one. Then use a conditional statement to generate the summary statistics for each arbitrage_spread DataFrame, where the spread is greater than zero."
   ]
  },
  {
   "cell_type": "code",
   "execution_count": 89,
   "metadata": {},
   "outputs": [
    {
     "data": {
      "text/plain": [
       "count    803.000000\n",
       "mean       3.586065\n",
       "std        1.315651\n",
       "min        0.010000\n",
       "25%        2.845000\n",
       "50%        3.560000\n",
       "75%        4.400000\n",
       "max        9.210000\n",
       "Name: Close, dtype: float64"
      ]
     },
     "execution_count": 89,
     "metadata": {},
     "output_type": "execute_result"
    }
   ],
   "source": [
    "# For the date early in the dataset, measure the arbitrage spread between the two exchanges\n",
    "# by subtracting the lower-priced exchange from the higher-priced one\n",
    "positive_arbitrage_spread_early = arbitrage_spread_early[arbitrage_spread_early > 0]\n",
    "\n",
    "# Use a conditional statement to generate the summary statistics for each arbitrage_spread DataFrame\n",
    "positive_arbitrage_spread_early.describe()\n"
   ]
  },
  {
   "cell_type": "code",
   "execution_count": 57,
   "metadata": {},
   "outputs": [
    {
     "data": {
      "text/plain": [
       "count    539.000000\n",
       "mean       4.858089\n",
       "std        3.642431\n",
       "min        0.020000\n",
       "25%        1.865000\n",
       "50%        3.990000\n",
       "75%        7.245000\n",
       "max       15.960000\n",
       "Name: Close, dtype: float64"
      ]
     },
     "execution_count": 57,
     "metadata": {},
     "output_type": "execute_result"
    }
   ],
   "source": [
    "# For the from the middle of the dataset, measure the arbitrage spread between the two exchanges\n",
    "# by subtracting the lower-priced exchange from the higher-priced one\n",
    "positive_arbitrage_spread_middle = arbitrage_spread_middle[arbitrage_spread_middle > 0]\n",
    "\n",
    "# Use a conditional statement to generate the summary statistics for each arbitrage_spread DataFrame\n",
    "positive_arbitrage_spread_middle.describe()\n"
   ]
  },
  {
   "cell_type": "code",
   "execution_count": 42,
   "metadata": {},
   "outputs": [
    {
     "data": {
      "text/plain": [
       "count    650.000000\n",
       "mean       3.024031\n",
       "std        2.281317\n",
       "min        0.010000\n",
       "25%        1.292500\n",
       "50%        2.565000\n",
       "75%        4.430000\n",
       "max       17.980000\n",
       "Name: Close, dtype: float64"
      ]
     },
     "execution_count": 42,
     "metadata": {},
     "output_type": "execute_result"
    }
   ],
   "source": [
    "# For the date late in the dataset, measure the arbitrage spread between the two exchanges\n",
    "# by subtracting the lower-priced exchange from the higher-priced one\n",
    "positive_arbitrage_spread_late = arbitrage_spread_late[arbitrage_spread_late > 0]\n",
    "\n",
    "# Use a conditional statement to generate the summary statistics for each arbitrage_spread DataFrame\n",
    "positive_arbitrage_spread_late.describe()"
   ]
  },
  {
   "cell_type": "markdown",
   "metadata": {},
   "source": [
    "#### 2. For each of the three dates, calculate the spread returns. To do so, divide the instances that have a positive arbitrage spread (that is, a spread greater than zero) by the price of Bitcoin from the exchange you’re buying on (that is, the lower-priced exchange). Review the resulting DataFrame."
   ]
  },
  {
   "cell_type": "code",
   "execution_count": 90,
   "metadata": {},
   "outputs": [
    {
     "data": {
      "text/plain": [
       "count    803.000000\n",
       "mean       0.005465\n",
       "std        0.002014\n",
       "min        0.000015\n",
       "25%        0.004329\n",
       "50%        0.005415\n",
       "75%        0.006687\n",
       "max        0.014141\n",
       "Name: Close, dtype: float64"
      ]
     },
     "execution_count": 90,
     "metadata": {},
     "output_type": "execute_result"
    }
   ],
   "source": [
    "# For the date early in the dataset, calculate the spread returns by dividing \n",
    "# the instances when the arbitrage spread is positive (> 0) by the price of Bitcoin \n",
    "# from the exchange you are buying on (the lower-priced exchange)\n",
    "spread_return_early = positive_arbitrage_spread_early / bitstamp['Close'].loc['2016-07-22']\n",
    "\n",
    "# Review the spread return DataFrame\n",
    "spread_return_early.describe()"
   ]
  },
  {
   "cell_type": "code",
   "execution_count": 74,
   "metadata": {},
   "outputs": [
    {
     "data": {
      "text/plain": [
       "count    539.000000\n",
       "mean       0.001897\n",
       "std        0.001415\n",
       "min        0.000008\n",
       "25%        0.000741\n",
       "50%        0.001589\n",
       "75%        0.002815\n",
       "max        0.006326\n",
       "Name: Close, dtype: float64"
      ]
     },
     "execution_count": 74,
     "metadata": {},
     "output_type": "execute_result"
    }
   ],
   "source": [
    "# For the date in the middle of the dataset, calculate the spread returns by dividing \n",
    "# the instances when the arbitrage spread is positive (> 0)  by the price of Bitcoin \n",
    "# from the exchange you are buying on (the lower-priced exchange)\n",
    "spread_return_middle = positive_arbitrage_spread_middle / bitstamp['Close'].loc['2017-06-18']\n",
    "\n",
    "# Review the spread return DataFrame\n",
    "spread_return_middle.describe()\n"
   ]
  },
  {
   "cell_type": "code",
   "execution_count": 45,
   "metadata": {},
   "outputs": [
    {
     "data": {
      "text/plain": [
       "count    650.000000\n",
       "mean       0.000709\n",
       "std        0.000537\n",
       "min        0.000002\n",
       "25%        0.000303\n",
       "50%        0.000600\n",
       "75%        0.001045\n",
       "max        0.004373\n",
       "Name: Close, dtype: float64"
      ]
     },
     "execution_count": 45,
     "metadata": {},
     "output_type": "execute_result"
    }
   ],
   "source": [
    "# For the date late in the dataset, calculate the spread returns by dividing \n",
    "# the instances when the arbitrage spread is positive (> 0)  by the price of Bitcoin \n",
    "# from the exchange you are buying on (the lower-priced exchange)\n",
    "spread_return_late = positive_arbitrage_spread_late / bitstamp['Close'].loc['2018-11-23']\n",
    "\n",
    "# Review the spread return DataFrame\n",
    "spread_return_late.describe()"
   ]
  },
  {
   "cell_type": "markdown",
   "metadata": {},
   "source": [
    "#### 3. For each of the three dates, narrow down your trading opportunities even further. To do so, determine the number of times your trades with positive returns exceed the 1% minimum threshold that you need to cover your costs."
   ]
  },
  {
   "cell_type": "code",
   "execution_count": 91,
   "metadata": {},
   "outputs": [
    {
     "data": {
      "text/plain": [
       "Timestamp\n",
       "2016-07-22 20:03:00    0.011305\n",
       "2016-07-22 20:28:00    0.011028\n",
       "2016-07-22 20:41:00    0.011809\n",
       "2016-07-22 22:47:00    0.014141\n",
       "2016-07-22 22:48:00    0.011469\n",
       "Name: Close, dtype: float64"
      ]
     },
     "execution_count": 91,
     "metadata": {},
     "output_type": "execute_result"
    }
   ],
   "source": [
    "# For the date early in the dataset, determine the number of times your trades with positive returns \n",
    "# exceed the 1% minimum threshold (.01) that you need to cover your costs\n",
    "profitable_trades_early = spread_return_early[spread_return_early>.01]\n",
    "\n",
    "# Review the first five profitable trades\n",
    "profitable_trades_early.head()\n"
   ]
  },
  {
   "cell_type": "code",
   "execution_count": 63,
   "metadata": {},
   "outputs": [
    {
     "data": {
      "text/plain": [
       "Series([], Name: Close, dtype: float64)"
      ]
     },
     "execution_count": 63,
     "metadata": {},
     "output_type": "execute_result"
    }
   ],
   "source": [
    "# For the date in the middle of the dataset, determine the number of times your trades with positive returns \n",
    "# exceed the 1% minimum threshold (.01) that you need to cover your costs\n",
    "profitable_trades_middle = spread_return_middle[spread_return_middle > .01]\n",
    "\n",
    "# Review the first five profitable trades\n",
    "profitable_trades_middle.head()\n"
   ]
  },
  {
   "cell_type": "code",
   "execution_count": 48,
   "metadata": {},
   "outputs": [
    {
     "data": {
      "text/plain": [
       "Series([], Name: Close, dtype: float64)"
      ]
     },
     "execution_count": 48,
     "metadata": {},
     "output_type": "execute_result"
    }
   ],
   "source": [
    "# For the date late in the dataset, determine the number of times your trades with positive returns \n",
    "# exceed the 1% minimum threshold (.01) that you need to cover your costs\n",
    "profitable_trades_late = spread_return_late[spread_return_late > .01]\n",
    "\n",
    "# Review the first five profitable trades\n",
    "profitable_trades_late.head()\n"
   ]
  },
  {
   "cell_type": "markdown",
   "metadata": {},
   "source": [
    "#### 4. Generate the summary statistics of your spread returns that are greater than 1%. How do the average returns compare among the three dates?"
   ]
  },
  {
   "cell_type": "code",
   "execution_count": 92,
   "metadata": {},
   "outputs": [
    {
     "data": {
      "text/plain": [
       "count    18.000000\n",
       "mean      0.012131\n",
       "std       0.000936\n",
       "min       0.010992\n",
       "25%       0.011484\n",
       "50%       0.011799\n",
       "75%       0.012747\n",
       "max       0.014141\n",
       "Name: Close, dtype: float64"
      ]
     },
     "execution_count": 92,
     "metadata": {},
     "output_type": "execute_result"
    }
   ],
   "source": [
    "# For the date early in the dataset, generate the summary statistics for the profitable trades\n",
    "# or you trades where the spread returns are are greater than 1%\n",
    "\n",
    "profitable_trades_early.describe()\n"
   ]
  },
  {
   "cell_type": "code",
   "execution_count": 50,
   "metadata": {},
   "outputs": [
    {
     "data": {
      "text/plain": [
       "count    0.0\n",
       "mean     NaN\n",
       "std      NaN\n",
       "min      NaN\n",
       "25%      NaN\n",
       "50%      NaN\n",
       "75%      NaN\n",
       "max      NaN\n",
       "Name: Close, dtype: float64"
      ]
     },
     "execution_count": 50,
     "metadata": {},
     "output_type": "execute_result"
    }
   ],
   "source": [
    "# For the date in the middle of the dataset, generate the summary statistics for the profitable trades\n",
    "# or you trades where the spread returns are are greater than 1%\n",
    "\n",
    "profitable_trades_middle.describe()\n"
   ]
  },
  {
   "cell_type": "code",
   "execution_count": null,
   "metadata": {},
   "outputs": [],
   "source": [
    "# For the date late in the dataset, generate the summary statistics for the profitable trades\n",
    "# or you trades where the spread returns are are greater than 1%\n",
    "\n",
    "profitable_trades_late.describe()"
   ]
  },
  {
   "cell_type": "markdown",
   "metadata": {},
   "source": [
    "#### 5. For each of the three dates, calculate the potential profit, in dollars, per trade. To do so, multiply the spread returns that were greater than 1% by the cost of what was purchased. Make sure to drop any missing values from the resulting DataFrame."
   ]
  },
  {
   "cell_type": "code",
   "execution_count": 95,
   "metadata": {},
   "outputs": [
    {
     "data": {
      "text/plain": [
       "count    18.000000\n",
       "mean      7.910556\n",
       "std       0.611666\n",
       "min       7.160000\n",
       "25%       7.500000\n",
       "50%       7.695000\n",
       "75%       8.320000\n",
       "max       9.210000\n",
       "Name: Close, dtype: float64"
      ]
     },
     "execution_count": 95,
     "metadata": {},
     "output_type": "execute_result"
    }
   ],
   "source": [
    "# For the date early in the dataset, calculate the potential profit per trade in dollars \n",
    "# Multiply the profitable trades by the cost of the Bitcoin that was purchased\n",
    "profit_early = profitable_trades_early * bitstamp['Close'].loc['2016-07-22']\n",
    "\n",
    "# Drop any missing values from the profit DataFrame\n",
    "profit_per_trade_early = profit_early.dropna()\n",
    "\n",
    "# View the early profit DataFrame\n",
    "profit_per_trade_early.describe()\n"
   ]
  },
  {
   "cell_type": "code",
   "execution_count": null,
   "metadata": {},
   "outputs": [],
   "source": [
    "# For the date in the middle of the dataset, calculate the potential profit per trade in dollars \n",
    "# Multiply the profitable trades by the cost of the Bitcoin that was purchased\n",
    "profit_middle = # YOUR CODE HERE\n",
    "\n",
    "# Drop any missing values from the profit DataFrame\n",
    "profit_per_trade_middle = # YOUR CODE HERE\n",
    "\n",
    "# View the early profit DataFrame\n",
    "# YOUR CODE HERE\n"
   ]
  },
  {
   "cell_type": "code",
   "execution_count": null,
   "metadata": {},
   "outputs": [],
   "source": [
    "# For the date late in the dataset, calculate the potential profit per trade in dollars \n",
    "# Multiply the profitable trades by the cost of the Bitcoin that was purchased\n",
    "profit_late = # YOUR CODE HERE\n",
    "\n",
    "# Drop any missing values from the profit DataFrame\n",
    "profit_per_trade_late = # YOUR CODE HERE\n",
    "\n",
    "# View the early profit DataFrame\n",
    "# YOUR CODE HERE\n"
   ]
  },
  {
   "cell_type": "markdown",
   "metadata": {},
   "source": [
    "#### 6. Generate the summary statistics, and plot the results for each of the three DataFrames."
   ]
  },
  {
   "cell_type": "code",
   "execution_count": null,
   "metadata": {},
   "outputs": [],
   "source": [
    "# Generate the summary statistics for the early profit per trade DataFrame\n",
    "# YOUR CODE HERE\n"
   ]
  },
  {
   "cell_type": "code",
   "execution_count": null,
   "metadata": {},
   "outputs": [],
   "source": [
    "# Plot the results for the early profit per trade DataFrame\n",
    "# Be sure to include at least a title with your plot\n",
    "# YOUR CODE HERE\n"
   ]
  },
  {
   "cell_type": "code",
   "execution_count": null,
   "metadata": {},
   "outputs": [],
   "source": [
    "# Generate the summary statistics for the middle profit per trade DataFrame\n",
    "# YOUR CODE HERE\n"
   ]
  },
  {
   "cell_type": "code",
   "execution_count": null,
   "metadata": {},
   "outputs": [],
   "source": [
    "# Plot the results for the middle profit per trade DataFrame\n",
    "# Be sure to include at least a title with your plot\n",
    "# YOUR CODE HERE\n"
   ]
  },
  {
   "cell_type": "code",
   "execution_count": null,
   "metadata": {},
   "outputs": [],
   "source": [
    "# Generate the summary statistics for the late profit per trade DataFrame\n",
    "# YOUR CODE HERE\n"
   ]
  },
  {
   "cell_type": "code",
   "execution_count": null,
   "metadata": {},
   "outputs": [],
   "source": [
    "# Plot the results for the late profit per trade DataFrame\n",
    "# Be sure to include at least a title with your plot\n",
    "# YOUR CODE HERE\n"
   ]
  },
  {
   "cell_type": "markdown",
   "metadata": {},
   "source": [
    "#### 7. Calculate the potential arbitrage profits that you can make on each day. To do so, sum the elements in the profit_per_trade DataFrame."
   ]
  },
  {
   "cell_type": "code",
   "execution_count": 96,
   "metadata": {},
   "outputs": [],
   "source": [
    "# Calculate the sum of the potential profits for the early profit per trade DataFrame\n",
    "profit_early_sum = profit_per_trade_early.sum()\n"
   ]
  },
  {
   "cell_type": "code",
   "execution_count": null,
   "metadata": {},
   "outputs": [],
   "source": [
    "# Calculate the sum of the potential profits for the middle profit per trade DataFrame\n",
    "# YOUR CODE HERE\n"
   ]
  },
  {
   "cell_type": "code",
   "execution_count": null,
   "metadata": {},
   "outputs": [],
   "source": [
    "# Calculate the sum of the potential profits for the late profit per trade DataFrame\n",
    "# YOUR CODE HERE\n"
   ]
  },
  {
   "cell_type": "markdown",
   "metadata": {},
   "source": [
    "#### 8. Using the `cumsum` function, plot the cumulative sum of each of the three DataFrames. Can you identify any patterns or trends in the profits across the three time periods?"
   ]
  },
  {
   "cell_type": "code",
   "execution_count": 97,
   "metadata": {},
   "outputs": [],
   "source": [
    "# Use the cumsum function to calculate the cumulative profits over time for the early profit per trade DataFrame\n",
    "cumulative_profit_early = profit_per_trade_early.cumsum()"
   ]
  },
  {
   "cell_type": "code",
   "execution_count": null,
   "metadata": {},
   "outputs": [],
   "source": [
    "# Plot the cumulative sum of profits for the early profit per trade DataFrame\n",
    "# Be sure to include at least a title with your plot\n",
    "# YOUR CODE HERE"
   ]
  },
  {
   "cell_type": "code",
   "execution_count": null,
   "metadata": {},
   "outputs": [],
   "source": [
    "# Use the cumsum function to calculate the cumulative profits over time for the middle profit per trade DataFrame\n",
    "cumulative_profit_middle = # YOUR CODE HERE\n"
   ]
  },
  {
   "cell_type": "code",
   "execution_count": null,
   "metadata": {},
   "outputs": [],
   "source": [
    "# Plot the cumulative sum of profits for the early profit per trade DataFrame\n",
    "# Be sure to include at least a title with your plot\n",
    "# YOUR CODE HERE\n"
   ]
  },
  {
   "cell_type": "code",
   "execution_count": null,
   "metadata": {},
   "outputs": [],
   "source": [
    "# Use the cumsum function to calculate the cumulative profits over time for the late profit per trade DataFrame\n",
    "cumulative_profit_late = # YOUR CODE HERE\n"
   ]
  },
  {
   "cell_type": "code",
   "execution_count": null,
   "metadata": {},
   "outputs": [],
   "source": [
    "# Plot the cumulative sum of profits for the early profit per trade DataFrame\n",
    "# Be sure to include at least a title with your plot\n",
    "# YOUR CODE HERE\n"
   ]
  },
  {
   "cell_type": "markdown",
   "metadata": {},
   "source": [
    "**Question:** After reviewing the profit information across each date from the different time periods, can you identify any patterns or trends?\n",
    "    \n",
    "**Answer:** Arbitrage profits are extremely hard to come by at the market for Bitcoin matures across time. As Bitcoin grows in populatiry, the prices across the two exhanges trade more in line with one another. That makes is very difficult find a point where the price difference exceeds the minimum profit threshold of 1%."
   ]
  },
  {
   "cell_type": "code",
   "execution_count": null,
   "metadata": {},
   "outputs": [],
   "source": []
  }
 ],
 "metadata": {
  "kernelspec": {
   "display_name": "Python (dev)",
   "language": "python",
   "name": "dev"
  },
  "language_info": {
   "codemirror_mode": {
    "name": "ipython",
    "version": 3
   },
   "file_extension": ".py",
   "mimetype": "text/x-python",
   "name": "python",
   "nbconvert_exporter": "python",
   "pygments_lexer": "ipython3",
   "version": "3.7.9"
  }
 },
 "nbformat": 4,
 "nbformat_minor": 4
}
